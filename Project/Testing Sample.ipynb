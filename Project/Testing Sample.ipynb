{
 "cells": [
  {
   "cell_type": "code",
   "execution_count": 2,
   "metadata": {},
   "outputs": [],
   "source": [
    "# general imports\n",
    "import numpy as np\n",
    "import pandas as pd\n",
    "import matplotlib.pyplot as plt\n",
    "\n",
    "# Text processing imports\n",
    "from sklearn.feature_extraction.text import CountVectorizer\n",
    "from sklearn.decomposition import LatentDirichletAllocation\n",
    "from sklearn.feature_extraction import text"
   ]
  },
  {
   "cell_type": "code",
   "execution_count": 3,
   "metadata": {},
   "outputs": [],
   "source": [
    "# List adapeted from:\n",
    "# https://www.geeksforgeeks.org/removing-stop-words-nltk-python/\n",
    "\n",
    "my_stops = text.ENGLISH_STOP_WORDS.union(\n",
    "    \n",
    "     [\"ourselves\", \"hers\", \"between\", \"yourself\", \"but\", \"again\",\n",
    "     \"there\", \"about\", \"once\", \"during\", \"out\", \"very\", \"having\",\n",
    "     \"with\", \"they\", \"own\", \"an\", \"be\", \"some\", \"for\", \"do\", \"its\",\n",
    "     \"yours\", \"such\", \"into\", \"of\", \"most\", \"itself\", \"other\", \"off\",\n",
    "     \"is\", \"s\", \"am\", \"or\", \"who\", \"as\", \"from\", \"him\", \"each\", \"the\",\n",
    "     \"themselves\", \"until\", \"below\", \"are\", \"we\", \"these\", \"your\", \"his\", \n",
    "     \"through\", \"don\", \"nor\", \"me\", \"were\", \"her\", \"more\", \"himself\", \"this\",\n",
    "     \"down\", \"should\", \"our\", \"their\", \"while\", \"above\", \"both\", \"up\", \"to\", \n",
    "     \"ours\", \"had\", \"she\", \"all\", \"no\", \"when\", \"at\", \"any\", \"before\", \"them\", \n",
    "     \"same\", \"and\", \"been\", \"have\", \"in\", \"will\", \"on\", \"does\", \"yourselves\", \n",
    "     \"then\", \"that\", \"because\", \"what\", \"over\", \"why\", \"so\", \"can\", \"did\", \"not\",\n",
    "     \"now\", \"under\", \"he\", \"you\", \"herself\", \"has\", \"just\", \"where\", \"too\", \"only\",\n",
    "     \"myself\", \"which\", \"those\", \"i\", \"after\", \"few\", \"whom\", \"t\", \"being\", \"if\", \"theirs\",\n",
    "     \"my\", \"against\", \"a\", \"by\", \"doing\", \"it\", \"how\", \"further\", \"was\", \"here\", \"than\", \"coronavirus\", \"covid\"]\n",
    "\n",
    ")"
   ]
  },
  {
   "cell_type": "markdown",
   "metadata": {},
   "source": [
    "## Data"
   ]
  },
  {
   "cell_type": "markdown",
   "metadata": {},
   "source": [
    "Articles from the following links:\n",
    "http://transcripts.cnn.com/TRANSCRIPTS/2005/04/acd.01.html\n",
    "http://transcripts.cnn.com/TRANSCRIPTS/2005/05/acd.01.html\n",
    "https://www.foxnews.com/opinion/gutfeld-on-limiting-coronavirus-lawsuits\n",
    "https://www.foxnews.com/opinion/gutfeld-trump-media-covid-pandemic\n"
   ]
  },
  {
   "cell_type": "code",
   "execution_count": 4,
   "metadata": {},
   "outputs": [
    {
     "data": {
      "text/html": [
       "<div>\n",
       "<style scoped>\n",
       "    .dataframe tbody tr th:only-of-type {\n",
       "        vertical-align: middle;\n",
       "    }\n",
       "\n",
       "    .dataframe tbody tr th {\n",
       "        vertical-align: top;\n",
       "    }\n",
       "\n",
       "    .dataframe thead th {\n",
       "        text-align: right;\n",
       "    }\n",
       "</style>\n",
       "<table border=\"1\" class=\"dataframe\">\n",
       "  <thead>\n",
       "    <tr style=\"text-align: right;\">\n",
       "      <th></th>\n",
       "      <th>Unnamed: 0</th>\n",
       "      <th>source</th>\n",
       "      <th>text</th>\n",
       "    </tr>\n",
       "  </thead>\n",
       "  <tbody>\n",
       "    <tr>\n",
       "      <th>0</th>\n",
       "      <td>0</td>\n",
       "      <td>CNN</td>\n",
       "      <td>According to at least one of those reports, t...</td>\n",
       "    </tr>\n",
       "    <tr>\n",
       "      <th>1</th>\n",
       "      <td>1</td>\n",
       "      <td>CNN</td>\n",
       "      <td>ANDERSON COOPER, CNN HOST: Erin, thanks very m...</td>\n",
       "    </tr>\n",
       "    <tr>\n",
       "      <th>2</th>\n",
       "      <td>2</td>\n",
       "      <td>Fox</td>\n",
       "      <td>I’m just going to list some lawsuits arising f...</td>\n",
       "    </tr>\n",
       "    <tr>\n",
       "      <th>3</th>\n",
       "      <td>3</td>\n",
       "      <td>Fox</td>\n",
       "      <td>At Sunday night’s town hall on Fox News Channe...</td>\n",
       "    </tr>\n",
       "  </tbody>\n",
       "</table>\n",
       "</div>"
      ],
      "text/plain": [
       "   Unnamed: 0 source                                               text\n",
       "0           0    CNN   According to at least one of those reports, t...\n",
       "1           1    CNN  ANDERSON COOPER, CNN HOST: Erin, thanks very m...\n",
       "2           2    Fox  I’m just going to list some lawsuits arising f...\n",
       "3           3    Fox  At Sunday night’s town hall on Fox News Channe..."
      ]
     },
     "execution_count": 4,
     "metadata": {},
     "output_type": "execute_result"
    }
   ],
   "source": [
    "articles = pd.read_csv('sample.csv')\n",
    "articles.head()"
   ]
  },
  {
   "cell_type": "code",
   "execution_count": 5,
   "metadata": {},
   "outputs": [],
   "source": [
    "vectorizer = CountVectorizer(min_df=3, stop_words=my_stops)\n",
    "counts = vectorizer.fit_transform(articles.text)"
   ]
  },
  {
   "cell_type": "markdown",
   "metadata": {},
   "source": [
    "## LDA"
   ]
  },
  {
   "cell_type": "code",
   "execution_count": 6,
   "metadata": {},
   "outputs": [],
   "source": [
    "as_topics = LatentDirichletAllocation(n_components=3, random_state=0, n_jobs=6).fit(counts)"
   ]
  },
  {
   "cell_type": "code",
   "execution_count": 7,
   "metadata": {},
   "outputs": [],
   "source": [
    "def print_topics(topics,vectorizer):\n",
    "    \"\"\"\n",
    "    Prints top 12 most important words for each topic in descending importance\n",
    "    \"\"\"\n",
    "    topic_dists = (topics.components_.T / topics.components_.sum(axis=1)).T\n",
    "    for comp in range(len(topic_dists)):\n",
    "        top_i = np.argsort(topic_dists[comp])[-12:][::-1]\n",
    "        print()\n",
    "        print([key for key, value in vectorizer.vocabulary_.items() if value in top_i])"
   ]
  },
  {
   "cell_type": "code",
   "execution_count": 8,
   "metadata": {},
   "outputs": [
    {
     "name": "stdout",
     "output_type": "stream",
     "text": [
      "\n",
      "['post', 'rising', 'need', 'think', 'maybe', 'starting', 'means', 'didn', 'hospitals', 'safety', 'leave', 'hand']\n",
      "\n",
      "['going', 'like', 'president', 'said', 'got', 'know', 'time', 'day', 'right', 'think', 'mean', 'pandemic']\n",
      "\n",
      "['like', 'trump', 'question', 'worse', 'run', 'appreciate', 'sure', 'agree', 'sunday', 'hall', 'fox', 'press']\n"
     ]
    }
   ],
   "source": [
    "print_topics(as_topics, vectorizer)"
   ]
  },
  {
   "cell_type": "code",
   "execution_count": 9,
   "metadata": {},
   "outputs": [
    {
     "data": {
      "text/html": [
       "<div>\n",
       "<style scoped>\n",
       "    .dataframe tbody tr th:only-of-type {\n",
       "        vertical-align: middle;\n",
       "    }\n",
       "\n",
       "    .dataframe tbody tr th {\n",
       "        vertical-align: top;\n",
       "    }\n",
       "\n",
       "    .dataframe thead th {\n",
       "        text-align: right;\n",
       "    }\n",
       "</style>\n",
       "<table border=\"1\" class=\"dataframe\">\n",
       "  <thead>\n",
       "    <tr style=\"text-align: right;\">\n",
       "      <th></th>\n",
       "      <th>Unnamed: 0</th>\n",
       "      <th>source</th>\n",
       "      <th>text</th>\n",
       "      <th>article_labels</th>\n",
       "    </tr>\n",
       "  </thead>\n",
       "  <tbody>\n",
       "    <tr>\n",
       "      <th>0</th>\n",
       "      <td>0</td>\n",
       "      <td>CNN</td>\n",
       "      <td>According to at least one of those reports, t...</td>\n",
       "      <td>1</td>\n",
       "    </tr>\n",
       "    <tr>\n",
       "      <th>1</th>\n",
       "      <td>1</td>\n",
       "      <td>CNN</td>\n",
       "      <td>ANDERSON COOPER, CNN HOST: Erin, thanks very m...</td>\n",
       "      <td>1</td>\n",
       "    </tr>\n",
       "    <tr>\n",
       "      <th>2</th>\n",
       "      <td>2</td>\n",
       "      <td>Fox</td>\n",
       "      <td>I’m just going to list some lawsuits arising f...</td>\n",
       "      <td>0</td>\n",
       "    </tr>\n",
       "    <tr>\n",
       "      <th>3</th>\n",
       "      <td>3</td>\n",
       "      <td>Fox</td>\n",
       "      <td>At Sunday night’s town hall on Fox News Channe...</td>\n",
       "      <td>2</td>\n",
       "    </tr>\n",
       "  </tbody>\n",
       "</table>\n",
       "</div>"
      ],
      "text/plain": [
       "   Unnamed: 0 source                                               text  \\\n",
       "0           0    CNN   According to at least one of those reports, t...   \n",
       "1           1    CNN  ANDERSON COOPER, CNN HOST: Erin, thanks very m...   \n",
       "2           2    Fox  I’m just going to list some lawsuits arising f...   \n",
       "3           3    Fox  At Sunday night’s town hall on Fox News Channe...   \n",
       "\n",
       "   article_labels  \n",
       "0               1  \n",
       "1               1  \n",
       "2               0  \n",
       "3               2  "
      ]
     },
     "execution_count": 9,
     "metadata": {},
     "output_type": "execute_result"
    }
   ],
   "source": [
    "article_dists = as_topics.transform(counts)\n",
    "article_labels = np.argmax(article_dists, axis=1)\n",
    "articles = articles.assign(article_labels= article_labels)\n",
    "articles.head()"
   ]
  },
  {
   "cell_type": "code",
   "execution_count": 10,
   "metadata": {},
   "outputs": [
    {
     "data": {
      "text/html": [
       "<div>\n",
       "<style scoped>\n",
       "    .dataframe tbody tr th:only-of-type {\n",
       "        vertical-align: middle;\n",
       "    }\n",
       "\n",
       "    .dataframe tbody tr th {\n",
       "        vertical-align: top;\n",
       "    }\n",
       "\n",
       "    .dataframe thead th {\n",
       "        text-align: right;\n",
       "    }\n",
       "</style>\n",
       "<table border=\"1\" class=\"dataframe\">\n",
       "  <thead>\n",
       "    <tr style=\"text-align: right;\">\n",
       "      <th>source</th>\n",
       "      <th>CNN</th>\n",
       "      <th>Fox</th>\n",
       "    </tr>\n",
       "    <tr>\n",
       "      <th>article_labels</th>\n",
       "      <th></th>\n",
       "      <th></th>\n",
       "    </tr>\n",
       "  </thead>\n",
       "  <tbody>\n",
       "    <tr>\n",
       "      <th>0</th>\n",
       "      <td>0.0</td>\n",
       "      <td>1.0</td>\n",
       "    </tr>\n",
       "    <tr>\n",
       "      <th>1</th>\n",
       "      <td>2.0</td>\n",
       "      <td>0.0</td>\n",
       "    </tr>\n",
       "    <tr>\n",
       "      <th>2</th>\n",
       "      <td>0.0</td>\n",
       "      <td>1.0</td>\n",
       "    </tr>\n",
       "  </tbody>\n",
       "</table>\n",
       "</div>"
      ],
      "text/plain": [
       "source          CNN  Fox\n",
       "article_labels          \n",
       "0               0.0  1.0\n",
       "1               2.0  0.0\n",
       "2               0.0  1.0"
      ]
     },
     "execution_count": 10,
     "metadata": {},
     "output_type": "execute_result"
    }
   ],
   "source": [
    "# Get source counts for each topic\n",
    "topic_counts = articles.groupby(['article_labels','source']).count()\n",
    "topic_counts.drop(['text'], axis=1, inplace=True)\n",
    "topic_counts.columns =['source_count']\n",
    "\n",
    "unstacked_topics = topic_counts.unstack()\n",
    "unstacked_topics = unstacked_topics.source_count\n",
    "unstacked_topics = unstacked_topics.reindex(columns=['CNN', 'Fox'])\n",
    "unstacked_topics = unstacked_topics.fillna(0)\n",
    "unstacked_topics.head()"
   ]
  },
  {
   "cell_type": "code",
   "execution_count": 11,
   "metadata": {},
   "outputs": [
    {
     "data": {
      "text/html": [
       "<div>\n",
       "<style scoped>\n",
       "    .dataframe tbody tr th:only-of-type {\n",
       "        vertical-align: middle;\n",
       "    }\n",
       "\n",
       "    .dataframe tbody tr th {\n",
       "        vertical-align: top;\n",
       "    }\n",
       "\n",
       "    .dataframe thead th {\n",
       "        text-align: right;\n",
       "    }\n",
       "</style>\n",
       "<table border=\"1\" class=\"dataframe\">\n",
       "  <thead>\n",
       "    <tr style=\"text-align: right;\">\n",
       "      <th></th>\n",
       "      <th></th>\n",
       "      <th>source_count</th>\n",
       "    </tr>\n",
       "    <tr>\n",
       "      <th>article_labels</th>\n",
       "      <th>source</th>\n",
       "      <th></th>\n",
       "    </tr>\n",
       "  </thead>\n",
       "  <tbody>\n",
       "    <tr>\n",
       "      <th>0</th>\n",
       "      <th>Fox</th>\n",
       "      <td>1</td>\n",
       "    </tr>\n",
       "    <tr>\n",
       "      <th>1</th>\n",
       "      <th>CNN</th>\n",
       "      <td>2</td>\n",
       "    </tr>\n",
       "    <tr>\n",
       "      <th>2</th>\n",
       "      <th>Fox</th>\n",
       "      <td>1</td>\n",
       "    </tr>\n",
       "  </tbody>\n",
       "</table>\n",
       "</div>"
      ],
      "text/plain": [
       "                       source_count\n",
       "article_labels source              \n",
       "0              Fox                1\n",
       "1              CNN                2\n",
       "2              Fox                1"
      ]
     },
     "execution_count": 11,
     "metadata": {},
     "output_type": "execute_result"
    }
   ],
   "source": [
    "topic_counts"
   ]
  },
  {
   "cell_type": "code",
   "execution_count": null,
   "metadata": {},
   "outputs": [],
   "source": []
  },
  {
   "cell_type": "code",
   "execution_count": 13,
   "metadata": {},
   "outputs": [
    {
     "data": {
      "image/png": "[encoded data removed]",
      "text/plain": [
       "<Figure size 432x288 with 1 Axes>"
      ]
     },
     "metadata": {
      "needs_background": "light"
     },
     "output_type": "display_data"
    }
   ],
   "source": [
    "# Plot source counts for each topic\n",
    "unstacked_topics.plot.bar(figsize=(6,4))\n",
    "plt.title('Article Source Counts by Topic')\n",
    "plt.xlabel('Topic')\n",
    "plt.ylabel('Source Count')\n",
    "plt.show()"
   ]
  },
  {
   "cell_type": "code",
   "execution_count": null,
   "metadata": {},
   "outputs": [],
   "source": []
  }
 ],
 "metadata": {
  "kernelspec": {
   "display_name": "Python 3",
   "language": "python",
   "name": "python3"
  },
  "language_info": {
   "codemirror_mode": {
    "name": "ipython",
    "version": 3
   },
   "file_extension": ".py",
   "mimetype": "text/x-python",
   "name": "python",
   "nbconvert_exporter": "python",
   "pygments_lexer": "ipython3",
   "version": "3.6.9"
  }
 },
 "nbformat": 4,
 "nbformat_minor": 2
}
